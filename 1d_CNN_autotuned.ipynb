{
  "nbformat": 4,
  "nbformat_minor": 0,
  "metadata": {
    "colab": {
      "name": "1d_CNN_autotuned.ipynb",
      "provenance": [],
      "authorship_tag": "ABX9TyPnDNQnirm0puyt1kGqHXCT",
      "include_colab_link": true
    },
    "kernelspec": {
      "name": "python3",
      "display_name": "Python 3"
    },
    "language_info": {
      "name": "python"
    }
  },
  "cells": [
    {
      "cell_type": "markdown",
      "metadata": {
        "id": "view-in-github",
        "colab_type": "text"
      },
      "source": [
        "<a href=\"https://colab.research.google.com/github/ebinjosephx/project/blob/main/1d_CNN_autotuned.ipynb\" target=\"_parent\"><img src=\"https://colab.research.google.com/assets/colab-badge.svg\" alt=\"Open In Colab\"/></a>"
      ]
    },
    {
      "cell_type": "code",
      "source": [
        "pip install keras-tuner --upgrade"
      ],
      "metadata": {
        "colab": {
          "base_uri": "https://localhost:8080/"
        },
        "id": "gpBV36R29J8i",
        "outputId": "1bf545f0-bc8d-4fa9-ca72-4973d7834d40"
      },
      "execution_count": 1,
      "outputs": [
        {
          "output_type": "stream",
          "name": "stdout",
          "text": [
            "Looking in indexes: https://pypi.org/simple, https://us-python.pkg.dev/colab-wheels/public/simple/\n",
            "Collecting keras-tuner\n",
            "  Downloading keras_tuner-1.1.2-py3-none-any.whl (133 kB)\n",
            "\u001b[K     |████████████████████████████████| 133 kB 8.1 MB/s \n",
            "\u001b[?25hRequirement already satisfied: ipython in /usr/local/lib/python3.7/dist-packages (from keras-tuner) (5.5.0)\n",
            "Requirement already satisfied: requests in /usr/local/lib/python3.7/dist-packages (from keras-tuner) (2.23.0)\n",
            "Requirement already satisfied: packaging in /usr/local/lib/python3.7/dist-packages (from keras-tuner) (21.3)\n",
            "Collecting kt-legacy\n",
            "  Downloading kt_legacy-1.0.4-py3-none-any.whl (9.6 kB)\n",
            "Requirement already satisfied: numpy in /usr/local/lib/python3.7/dist-packages (from keras-tuner) (1.21.6)\n",
            "Requirement already satisfied: tensorboard in /usr/local/lib/python3.7/dist-packages (from keras-tuner) (2.8.0)\n",
            "Requirement already satisfied: prompt-toolkit<2.0.0,>=1.0.4 in /usr/local/lib/python3.7/dist-packages (from ipython->keras-tuner) (1.0.18)\n",
            "Requirement already satisfied: pygments in /usr/local/lib/python3.7/dist-packages (from ipython->keras-tuner) (2.6.1)\n",
            "Requirement already satisfied: decorator in /usr/local/lib/python3.7/dist-packages (from ipython->keras-tuner) (4.4.2)\n",
            "Requirement already satisfied: traitlets>=4.2 in /usr/local/lib/python3.7/dist-packages (from ipython->keras-tuner) (5.1.1)\n",
            "Requirement already satisfied: pexpect in /usr/local/lib/python3.7/dist-packages (from ipython->keras-tuner) (4.8.0)\n",
            "Requirement already satisfied: simplegeneric>0.8 in /usr/local/lib/python3.7/dist-packages (from ipython->keras-tuner) (0.8.1)\n",
            "Requirement already satisfied: setuptools>=18.5 in /usr/local/lib/python3.7/dist-packages (from ipython->keras-tuner) (57.4.0)\n",
            "Requirement already satisfied: pickleshare in /usr/local/lib/python3.7/dist-packages (from ipython->keras-tuner) (0.7.5)\n",
            "Requirement already satisfied: wcwidth in /usr/local/lib/python3.7/dist-packages (from prompt-toolkit<2.0.0,>=1.0.4->ipython->keras-tuner) (0.2.5)\n",
            "Requirement already satisfied: six>=1.9.0 in /usr/local/lib/python3.7/dist-packages (from prompt-toolkit<2.0.0,>=1.0.4->ipython->keras-tuner) (1.15.0)\n",
            "Requirement already satisfied: pyparsing!=3.0.5,>=2.0.2 in /usr/local/lib/python3.7/dist-packages (from packaging->keras-tuner) (3.0.9)\n",
            "Requirement already satisfied: ptyprocess>=0.5 in /usr/local/lib/python3.7/dist-packages (from pexpect->ipython->keras-tuner) (0.7.0)\n",
            "Requirement already satisfied: certifi>=2017.4.17 in /usr/local/lib/python3.7/dist-packages (from requests->keras-tuner) (2022.6.15)\n",
            "Requirement already satisfied: urllib3!=1.25.0,!=1.25.1,<1.26,>=1.21.1 in /usr/local/lib/python3.7/dist-packages (from requests->keras-tuner) (1.24.3)\n",
            "Requirement already satisfied: chardet<4,>=3.0.2 in /usr/local/lib/python3.7/dist-packages (from requests->keras-tuner) (3.0.4)\n",
            "Requirement already satisfied: idna<3,>=2.5 in /usr/local/lib/python3.7/dist-packages (from requests->keras-tuner) (2.10)\n",
            "Requirement already satisfied: wheel>=0.26 in /usr/local/lib/python3.7/dist-packages (from tensorboard->keras-tuner) (0.37.1)\n",
            "Requirement already satisfied: werkzeug>=0.11.15 in /usr/local/lib/python3.7/dist-packages (from tensorboard->keras-tuner) (1.0.1)\n",
            "Requirement already satisfied: grpcio>=1.24.3 in /usr/local/lib/python3.7/dist-packages (from tensorboard->keras-tuner) (1.46.3)\n",
            "Requirement already satisfied: tensorboard-plugin-wit>=1.6.0 in /usr/local/lib/python3.7/dist-packages (from tensorboard->keras-tuner) (1.8.1)\n",
            "Requirement already satisfied: google-auth-oauthlib<0.5,>=0.4.1 in /usr/local/lib/python3.7/dist-packages (from tensorboard->keras-tuner) (0.4.6)\n",
            "Requirement already satisfied: absl-py>=0.4 in /usr/local/lib/python3.7/dist-packages (from tensorboard->keras-tuner) (1.1.0)\n",
            "Requirement already satisfied: markdown>=2.6.8 in /usr/local/lib/python3.7/dist-packages (from tensorboard->keras-tuner) (3.3.7)\n",
            "Requirement already satisfied: google-auth<3,>=1.6.3 in /usr/local/lib/python3.7/dist-packages (from tensorboard->keras-tuner) (1.35.0)\n",
            "Requirement already satisfied: protobuf>=3.6.0 in /usr/local/lib/python3.7/dist-packages (from tensorboard->keras-tuner) (3.17.3)\n",
            "Requirement already satisfied: tensorboard-data-server<0.7.0,>=0.6.0 in /usr/local/lib/python3.7/dist-packages (from tensorboard->keras-tuner) (0.6.1)\n",
            "Requirement already satisfied: rsa<5,>=3.1.4 in /usr/local/lib/python3.7/dist-packages (from google-auth<3,>=1.6.3->tensorboard->keras-tuner) (4.8)\n",
            "Requirement already satisfied: pyasn1-modules>=0.2.1 in /usr/local/lib/python3.7/dist-packages (from google-auth<3,>=1.6.3->tensorboard->keras-tuner) (0.2.8)\n",
            "Requirement already satisfied: cachetools<5.0,>=2.0.0 in /usr/local/lib/python3.7/dist-packages (from google-auth<3,>=1.6.3->tensorboard->keras-tuner) (4.2.4)\n",
            "Requirement already satisfied: requests-oauthlib>=0.7.0 in /usr/local/lib/python3.7/dist-packages (from google-auth-oauthlib<0.5,>=0.4.1->tensorboard->keras-tuner) (1.3.1)\n",
            "Requirement already satisfied: importlib-metadata>=4.4 in /usr/local/lib/python3.7/dist-packages (from markdown>=2.6.8->tensorboard->keras-tuner) (4.11.4)\n",
            "Requirement already satisfied: typing-extensions>=3.6.4 in /usr/local/lib/python3.7/dist-packages (from importlib-metadata>=4.4->markdown>=2.6.8->tensorboard->keras-tuner) (4.1.1)\n",
            "Requirement already satisfied: zipp>=0.5 in /usr/local/lib/python3.7/dist-packages (from importlib-metadata>=4.4->markdown>=2.6.8->tensorboard->keras-tuner) (3.8.0)\n",
            "Requirement already satisfied: pyasn1<0.5.0,>=0.4.6 in /usr/local/lib/python3.7/dist-packages (from pyasn1-modules>=0.2.1->google-auth<3,>=1.6.3->tensorboard->keras-tuner) (0.4.8)\n",
            "Requirement already satisfied: oauthlib>=3.0.0 in /usr/local/lib/python3.7/dist-packages (from requests-oauthlib>=0.7.0->google-auth-oauthlib<0.5,>=0.4.1->tensorboard->keras-tuner) (3.2.0)\n",
            "Installing collected packages: kt-legacy, keras-tuner\n",
            "Successfully installed keras-tuner-1.1.2 kt-legacy-1.0.4\n"
          ]
        }
      ]
    },
    {
      "cell_type": "code",
      "execution_count": 2,
      "metadata": {
        "id": "jt_grMURSCII"
      },
      "outputs": [],
      "source": [
        "from keras_tuner.tuners import RandomSearch\n",
        "import numpy as np\n",
        "import matplotlib.pyplot as plt\n",
        "import pandas as pd\n",
        "\n",
        "# Scaling data\n",
        "from sklearn.preprocessing import StandardScaler\n",
        "# Classification Report\n",
        "from sklearn.metrics import classification_report\n",
        "\n",
        "from keras.utils.np_utils import to_categorical\n",
        "\n",
        "dataset = pd.read_excel('/content/Copy of Pro-data4.xlsx')\n",
        "sc = StandardScaler()\n",
        "X = dataset.iloc[:,1:6].values\n",
        "X = pd.DataFrame(sc.fit_transform(X))\n",
        "\n",
        "y = dataset.iloc[:,-1]\n",
        "\n",
        "y_cat= to_categorical(y)\n",
        "\n",
        "from sklearn.model_selection import train_test_split\n",
        "X_train, X_test, y_train, y_test = train_test_split(X, y_cat, test_size = 0.3, random_state = 42)\n",
        "\n",
        "\n"
      ]
    },
    {
      "cell_type": "code",
      "source": [
        "X_train = X_train.values.reshape((X_train.shape[0], X_train.shape[1], 1))\n",
        "X_test = X_test.values.reshape((X_test.shape[0], X_test.shape[1], 1))"
      ],
      "metadata": {
        "id": "hGdyQRjVTXB4"
      },
      "execution_count": 3,
      "outputs": []
    },
    {
      "cell_type": "code",
      "source": [
        "import keras\n",
        "from keras.models import Sequential\n",
        "from keras.layers import Dense\n",
        "from keras.layers import Flatten\n",
        "from keras.layers import Dropout\n",
        "from keras.layers.convolutional import Conv1D\n",
        "from keras.layers.convolutional import MaxPooling1D\n",
        "\n",
        "def build_model(hp):\n",
        "    \n",
        "    filter_num = hp.Int('filters', min_value=50, max_value=150, step=1)\n",
        "    act_func = hp.Choice('Activation Func', ['relu', 'elu', 'sigmoid', 'tanh'])\n",
        "\n",
        "    model = Sequential()\n",
        "    model.add(Conv1D(filters=filter_num, kernel_size=3, activation=act_fn, input_shape=(X_train.shape[1],X_train.shape[2]),kernel_regularizer=keras.regularizers.l2(l=0.01), kernel_initializer='he_normal'))\n",
        "    model.add(MaxPooling1D(pool_size=1))\n",
        "    model.add(Flatten())\n",
        "    model.add(Dense(100, activation='relu'))\n",
        "    model.add(Dropout(0.2))\n",
        "\n",
        "    model.add(Dense(y_train.shape[1], activation='softmax'))\n",
        "\n",
        "    model.compile(loss='categorical_crossentropy', optimizer='adam', metrics=['accuracy'])\n",
        "    return model\n"
      ],
      "metadata": {
        "id": "j1wrx3_G6vM_"
      },
      "execution_count": 11,
      "outputs": []
    },
    {
      "cell_type": "code",
      "source": [
        "tuner = RandomSearch(\n",
        "    build_model,\n",
        "    objective='accuracy',\n",
        "    seed=1,\n",
        "    max_trials=16,\n",
        "    executions_per_trial=2,\n",
        "    directory='dir',\n",
        "    project_name='set6')"
      ],
      "metadata": {
        "id": "Q0zC6xnG8E8Q"
      },
      "execution_count": 5,
      "outputs": []
    },
    {
      "cell_type": "code",
      "source": [
        "tuner.search_space_summary()"
      ],
      "metadata": {
        "colab": {
          "base_uri": "https://localhost:8080/"
        },
        "id": "5V9MQYA98PWF",
        "outputId": "d39d56d1-6893-4f5e-b342-4d7561d41666"
      },
      "execution_count": 6,
      "outputs": [
        {
          "output_type": "stream",
          "name": "stdout",
          "text": [
            "Search space summary\n",
            "Default search space size: 1\n",
            "filters (Int)\n",
            "{'default': None, 'conditions': [], 'min_value': 50, 'max_value': 150, 'step': 1, 'sampling': None}\n"
          ]
        }
      ]
    },
    {
      "cell_type": "code",
      "source": [
        "tuner.search(X_train, y_train, epochs=20, verbose=1, validation_data=(X_test, y_test), batch_size=32)"
      ],
      "metadata": {
        "colab": {
          "base_uri": "https://localhost:8080/"
        },
        "id": "3pcqK2Kp8UQX",
        "outputId": "f2b597d1-42d3-41cc-914b-6f23a9b08b96"
      },
      "execution_count": 7,
      "outputs": [
        {
          "output_type": "stream",
          "name": "stdout",
          "text": [
            "Trial 16 Complete [00h 00m 06s]\n",
            "accuracy: 0.5385321080684662\n",
            "\n",
            "Best accuracy So Far: 0.5477064251899719\n",
            "Total elapsed time: 00h 01m 45s\n",
            "INFO:tensorflow:Oracle triggered exit\n"
          ]
        }
      ]
    },
    {
      "cell_type": "code",
      "source": [
        "tuner.results_summary()"
      ],
      "metadata": {
        "colab": {
          "base_uri": "https://localhost:8080/"
        },
        "id": "LXtatlpd8Y3M",
        "outputId": "abbb179e-12de-4d69-a91d-d69c2f9cf8f2"
      },
      "execution_count": 8,
      "outputs": [
        {
          "output_type": "stream",
          "name": "stdout",
          "text": [
            "Results summary\n",
            "Results in dir/set6\n",
            "Showing 10 best trials\n",
            "<keras_tuner.engine.objective.Objective object at 0x7efc0ae5dd90>\n",
            "Trial summary\n",
            "Hyperparameters:\n",
            "filters: 97\n",
            "Score: 0.5477064251899719\n",
            "Trial summary\n",
            "Hyperparameters:\n",
            "filters: 96\n",
            "Score: 0.5458715558052063\n",
            "Trial summary\n",
            "Hyperparameters:\n",
            "filters: 129\n",
            "Score: 0.5449541211128235\n",
            "Trial summary\n",
            "Hyperparameters:\n",
            "filters: 61\n",
            "Score: 0.5440366864204407\n",
            "Trial summary\n",
            "Hyperparameters:\n",
            "filters: 112\n",
            "Score: 0.5431192517280579\n",
            "Trial summary\n",
            "Hyperparameters:\n",
            "filters: 147\n",
            "Score: 0.5422018468379974\n",
            "Trial summary\n",
            "Hyperparameters:\n",
            "filters: 76\n",
            "Score: 0.542201817035675\n",
            "Trial summary\n",
            "Hyperparameters:\n",
            "filters: 74\n",
            "Score: 0.5412844121456146\n",
            "Trial summary\n",
            "Hyperparameters:\n",
            "filters: 107\n",
            "Score: 0.5403669774532318\n",
            "Trial summary\n",
            "Hyperparameters:\n",
            "filters: 86\n",
            "Score: 0.5403669476509094\n"
          ]
        }
      ]
    },
    {
      "cell_type": "code",
      "source": [
        "import keras\n",
        "from keras.models import Sequential\n",
        "from keras.layers import Dense\n",
        "from keras.layers import Flatten\n",
        "from keras.layers import Dropout\n",
        "from keras.layers.convolutional import Conv1D\n",
        "from keras.layers.convolutional import MaxPooling1D\n",
        "\n",
        "model = Sequential()\n",
        "model.add(Conv1D(filters=128, kernel_size=3, activation='tanh', input_shape=(X_train.shape[1],X_train.shape[2]),kernel_regularizer=keras.regularizers.l2(l=0.01), kernel_initializer='he_normal'))\n",
        "model.add(Conv1D(filters=128, kernel_size=3, activation='tanh'))\n",
        "model.add(Dropout(0.2))\n",
        "model.add(MaxPooling1D(pool_size=1))\n",
        "model.add(Flatten())\n",
        "model.add(Dense(96, activation='relu'))\n",
        "model.add(Dense(y_train.shape[1], activation='softmax'))\n",
        "model.compile(loss='categorical_crossentropy', optimizer='adam', metrics=['accuracy'])\n",
        "# fit network\n",
        "history=model.fit(X_train, y_train, epochs=150,validation_data=(X_test, y_test), verbose=1)\n"
      ],
      "metadata": {
        "colab": {
          "base_uri": "https://localhost:8080/"
        },
        "id": "Tep6JySAP7BI",
        "outputId": "e0eb0929-8075-4d26-a975-ffd6d8cf979c"
      },
      "execution_count": 9,
      "outputs": [
        {
          "output_type": "stream",
          "name": "stdout",
          "text": [
            "Epoch 1/150\n",
            "18/18 [==============================] - 2s 46ms/step - loss: 3.7711 - accuracy: 0.3945 - val_loss: 3.5459 - val_accuracy: 0.4744\n",
            "Epoch 2/150\n",
            "18/18 [==============================] - 0s 7ms/step - loss: 3.5959 - accuracy: 0.4679 - val_loss: 3.4030 - val_accuracy: 0.5598\n",
            "Epoch 3/150\n",
            "18/18 [==============================] - 0s 10ms/step - loss: 3.5145 - accuracy: 0.4477 - val_loss: 3.3059 - val_accuracy: 0.5769\n",
            "Epoch 4/150\n",
            "18/18 [==============================] - 0s 9ms/step - loss: 3.4243 - accuracy: 0.4936 - val_loss: 3.2400 - val_accuracy: 0.4915\n",
            "Epoch 5/150\n",
            "18/18 [==============================] - 0s 7ms/step - loss: 3.3588 - accuracy: 0.4459 - val_loss: 3.1705 - val_accuracy: 0.5598\n",
            "Epoch 6/150\n",
            "18/18 [==============================] - 0s 13ms/step - loss: 3.2802 - accuracy: 0.4917 - val_loss: 3.1429 - val_accuracy: 0.5299\n",
            "Epoch 7/150\n",
            "18/18 [==============================] - 0s 8ms/step - loss: 3.2257 - accuracy: 0.4569 - val_loss: 3.0224 - val_accuracy: 0.5513\n",
            "Epoch 8/150\n",
            "18/18 [==============================] - 0s 15ms/step - loss: 3.1188 - accuracy: 0.4917 - val_loss: 2.9943 - val_accuracy: 0.5427\n",
            "Epoch 9/150\n",
            "18/18 [==============================] - 0s 8ms/step - loss: 3.0116 - accuracy: 0.5138 - val_loss: 2.8849 - val_accuracy: 0.5641\n",
            "Epoch 10/150\n",
            "18/18 [==============================] - 0s 9ms/step - loss: 2.9548 - accuracy: 0.5028 - val_loss: 2.8252 - val_accuracy: 0.5684\n",
            "Epoch 11/150\n",
            "18/18 [==============================] - 0s 9ms/step - loss: 2.9017 - accuracy: 0.5174 - val_loss: 2.7642 - val_accuracy: 0.5726\n",
            "Epoch 12/150\n",
            "18/18 [==============================] - 0s 17ms/step - loss: 2.8612 - accuracy: 0.5156 - val_loss: 2.7283 - val_accuracy: 0.5214\n",
            "Epoch 13/150\n",
            "18/18 [==============================] - 0s 15ms/step - loss: 2.8170 - accuracy: 0.5064 - val_loss: 2.7401 - val_accuracy: 0.5342\n",
            "Epoch 14/150\n",
            "18/18 [==============================] - 0s 9ms/step - loss: 2.7209 - accuracy: 0.5339 - val_loss: 2.6109 - val_accuracy: 0.5812\n",
            "Epoch 15/150\n",
            "18/18 [==============================] - 0s 10ms/step - loss: 2.6785 - accuracy: 0.4826 - val_loss: 2.5692 - val_accuracy: 0.5427\n",
            "Epoch 16/150\n",
            "18/18 [==============================] - 0s 7ms/step - loss: 2.6446 - accuracy: 0.5083 - val_loss: 2.4933 - val_accuracy: 0.5769\n",
            "Epoch 17/150\n",
            "18/18 [==============================] - 0s 10ms/step - loss: 2.5638 - accuracy: 0.5229 - val_loss: 2.4537 - val_accuracy: 0.5556\n",
            "Epoch 18/150\n",
            "18/18 [==============================] - 0s 8ms/step - loss: 2.5693 - accuracy: 0.5009 - val_loss: 2.4272 - val_accuracy: 0.5598\n",
            "Epoch 19/150\n",
            "18/18 [==============================] - 0s 7ms/step - loss: 2.4882 - accuracy: 0.5193 - val_loss: 2.3733 - val_accuracy: 0.5769\n",
            "Epoch 20/150\n",
            "18/18 [==============================] - 0s 6ms/step - loss: 2.4494 - accuracy: 0.5248 - val_loss: 2.3242 - val_accuracy: 0.5855\n",
            "Epoch 21/150\n",
            "18/18 [==============================] - 0s 7ms/step - loss: 2.3736 - accuracy: 0.5028 - val_loss: 2.2855 - val_accuracy: 0.5598\n",
            "Epoch 22/150\n",
            "18/18 [==============================] - 0s 7ms/step - loss: 2.3383 - accuracy: 0.5376 - val_loss: 2.2419 - val_accuracy: 0.5897\n",
            "Epoch 23/150\n",
            "18/18 [==============================] - 0s 7ms/step - loss: 2.2834 - accuracy: 0.5339 - val_loss: 2.2070 - val_accuracy: 0.5769\n",
            "Epoch 24/150\n",
            "18/18 [==============================] - 0s 9ms/step - loss: 2.2665 - accuracy: 0.5211 - val_loss: 2.1627 - val_accuracy: 0.5556\n",
            "Epoch 25/150\n",
            "18/18 [==============================] - 0s 6ms/step - loss: 2.2480 - accuracy: 0.5211 - val_loss: 2.1394 - val_accuracy: 0.5769\n",
            "Epoch 26/150\n",
            "18/18 [==============================] - 0s 5ms/step - loss: 2.1863 - accuracy: 0.5505 - val_loss: 2.0888 - val_accuracy: 0.5726\n",
            "Epoch 27/150\n",
            "18/18 [==============================] - 0s 5ms/step - loss: 2.1471 - accuracy: 0.5284 - val_loss: 2.0540 - val_accuracy: 0.5726\n",
            "Epoch 28/150\n",
            "18/18 [==============================] - 0s 4ms/step - loss: 2.1079 - accuracy: 0.5211 - val_loss: 2.0190 - val_accuracy: 0.5684\n",
            "Epoch 29/150\n",
            "18/18 [==============================] - 0s 5ms/step - loss: 2.0406 - accuracy: 0.5633 - val_loss: 1.9892 - val_accuracy: 0.5684\n",
            "Epoch 30/150\n",
            "18/18 [==============================] - 0s 5ms/step - loss: 2.0799 - accuracy: 0.5101 - val_loss: 1.9667 - val_accuracy: 0.5299\n",
            "Epoch 31/150\n",
            "18/18 [==============================] - 0s 5ms/step - loss: 2.0024 - accuracy: 0.5303 - val_loss: 1.9292 - val_accuracy: 0.5641\n",
            "Epoch 32/150\n",
            "18/18 [==============================] - 0s 5ms/step - loss: 1.9425 - accuracy: 0.5284 - val_loss: 1.8871 - val_accuracy: 0.5897\n",
            "Epoch 33/150\n",
            "18/18 [==============================] - 0s 5ms/step - loss: 1.9218 - accuracy: 0.5303 - val_loss: 1.8653 - val_accuracy: 0.5641\n",
            "Epoch 34/150\n",
            "18/18 [==============================] - 0s 4ms/step - loss: 1.9409 - accuracy: 0.5138 - val_loss: 1.8656 - val_accuracy: 0.5556\n",
            "Epoch 35/150\n",
            "18/18 [==============================] - 0s 4ms/step - loss: 1.9383 - accuracy: 0.5064 - val_loss: 1.8214 - val_accuracy: 0.5726\n",
            "Epoch 36/150\n",
            "18/18 [==============================] - 0s 4ms/step - loss: 1.8350 - accuracy: 0.5505 - val_loss: 1.7755 - val_accuracy: 0.5812\n",
            "Epoch 37/150\n",
            "18/18 [==============================] - 0s 5ms/step - loss: 1.8284 - accuracy: 0.5339 - val_loss: 1.7637 - val_accuracy: 0.5726\n",
            "Epoch 38/150\n",
            "18/18 [==============================] - 0s 4ms/step - loss: 1.7888 - accuracy: 0.5523 - val_loss: 1.7299 - val_accuracy: 0.5726\n",
            "Epoch 39/150\n",
            "18/18 [==============================] - 0s 4ms/step - loss: 1.8220 - accuracy: 0.5284 - val_loss: 1.7192 - val_accuracy: 0.5556\n",
            "Epoch 40/150\n",
            "18/18 [==============================] - 0s 4ms/step - loss: 1.7358 - accuracy: 0.5523 - val_loss: 1.6913 - val_accuracy: 0.5812\n",
            "Epoch 41/150\n",
            "18/18 [==============================] - 0s 5ms/step - loss: 1.7057 - accuracy: 0.5358 - val_loss: 1.6626 - val_accuracy: 0.5855\n",
            "Epoch 42/150\n",
            "18/18 [==============================] - 0s 5ms/step - loss: 1.6740 - accuracy: 0.5523 - val_loss: 1.6323 - val_accuracy: 0.5769\n",
            "Epoch 43/150\n",
            "18/18 [==============================] - 0s 4ms/step - loss: 1.6543 - accuracy: 0.5596 - val_loss: 1.6138 - val_accuracy: 0.5983\n",
            "Epoch 44/150\n",
            "18/18 [==============================] - 0s 4ms/step - loss: 1.6520 - accuracy: 0.5468 - val_loss: 1.5915 - val_accuracy: 0.5897\n",
            "Epoch 45/150\n",
            "18/18 [==============================] - 0s 5ms/step - loss: 1.6632 - accuracy: 0.5193 - val_loss: 1.5761 - val_accuracy: 0.6068\n",
            "Epoch 46/150\n",
            "18/18 [==============================] - 0s 4ms/step - loss: 1.5922 - accuracy: 0.5450 - val_loss: 1.5664 - val_accuracy: 0.5556\n",
            "Epoch 47/150\n",
            "18/18 [==============================] - 0s 4ms/step - loss: 1.5789 - accuracy: 0.5468 - val_loss: 1.5294 - val_accuracy: 0.5940\n",
            "Epoch 48/150\n",
            "18/18 [==============================] - 0s 4ms/step - loss: 1.5732 - accuracy: 0.5578 - val_loss: 1.5172 - val_accuracy: 0.5513\n",
            "Epoch 49/150\n",
            "18/18 [==============================] - 0s 6ms/step - loss: 1.5519 - accuracy: 0.5229 - val_loss: 1.4954 - val_accuracy: 0.5769\n",
            "Epoch 50/150\n",
            "18/18 [==============================] - 0s 4ms/step - loss: 1.5499 - accuracy: 0.5505 - val_loss: 1.4904 - val_accuracy: 0.5598\n",
            "Epoch 51/150\n",
            "18/18 [==============================] - 0s 5ms/step - loss: 1.5039 - accuracy: 0.5523 - val_loss: 1.4601 - val_accuracy: 0.5684\n",
            "Epoch 52/150\n",
            "18/18 [==============================] - 0s 5ms/step - loss: 1.5125 - accuracy: 0.5688 - val_loss: 1.4601 - val_accuracy: 0.5726\n",
            "Epoch 53/150\n",
            "18/18 [==============================] - 0s 4ms/step - loss: 1.4630 - accuracy: 0.5706 - val_loss: 1.4314 - val_accuracy: 0.5855\n",
            "Epoch 54/150\n",
            "18/18 [==============================] - 0s 4ms/step - loss: 1.4597 - accuracy: 0.5541 - val_loss: 1.4306 - val_accuracy: 0.5684\n",
            "Epoch 55/150\n",
            "18/18 [==============================] - 0s 5ms/step - loss: 1.4504 - accuracy: 0.5321 - val_loss: 1.3933 - val_accuracy: 0.5769\n",
            "Epoch 56/150\n",
            "18/18 [==============================] - 0s 5ms/step - loss: 1.4361 - accuracy: 0.5523 - val_loss: 1.3825 - val_accuracy: 0.5684\n",
            "Epoch 57/150\n",
            "18/18 [==============================] - 0s 4ms/step - loss: 1.4300 - accuracy: 0.5523 - val_loss: 1.3861 - val_accuracy: 0.5726\n",
            "Epoch 58/150\n",
            "18/18 [==============================] - 0s 4ms/step - loss: 1.3912 - accuracy: 0.5541 - val_loss: 1.3508 - val_accuracy: 0.5726\n",
            "Epoch 59/150\n",
            "18/18 [==============================] - 0s 5ms/step - loss: 1.3744 - accuracy: 0.5633 - val_loss: 1.3409 - val_accuracy: 0.6026\n",
            "Epoch 60/150\n",
            "18/18 [==============================] - 0s 5ms/step - loss: 1.3696 - accuracy: 0.5486 - val_loss: 1.3382 - val_accuracy: 0.5726\n",
            "Epoch 61/150\n",
            "18/18 [==============================] - 0s 4ms/step - loss: 1.3435 - accuracy: 0.5670 - val_loss: 1.3199 - val_accuracy: 0.5897\n",
            "Epoch 62/150\n",
            "18/18 [==============================] - 0s 4ms/step - loss: 1.3400 - accuracy: 0.5523 - val_loss: 1.3104 - val_accuracy: 0.5812\n",
            "Epoch 63/150\n",
            "18/18 [==============================] - 0s 4ms/step - loss: 1.3273 - accuracy: 0.5450 - val_loss: 1.2976 - val_accuracy: 0.5897\n",
            "Epoch 64/150\n",
            "18/18 [==============================] - 0s 5ms/step - loss: 1.3161 - accuracy: 0.5578 - val_loss: 1.2936 - val_accuracy: 0.5684\n",
            "Epoch 65/150\n",
            "18/18 [==============================] - 0s 5ms/step - loss: 1.3080 - accuracy: 0.5688 - val_loss: 1.2760 - val_accuracy: 0.6068\n",
            "Epoch 66/150\n",
            "18/18 [==============================] - 0s 4ms/step - loss: 1.3901 - accuracy: 0.5284 - val_loss: 1.3497 - val_accuracy: 0.5427\n",
            "Epoch 67/150\n",
            "18/18 [==============================] - 0s 4ms/step - loss: 1.3104 - accuracy: 0.5560 - val_loss: 1.2588 - val_accuracy: 0.5897\n",
            "Epoch 68/150\n",
            "18/18 [==============================] - 0s 4ms/step - loss: 1.3464 - accuracy: 0.5376 - val_loss: 1.3131 - val_accuracy: 0.5684\n",
            "Epoch 69/150\n",
            "18/18 [==============================] - 0s 4ms/step - loss: 1.3068 - accuracy: 0.5505 - val_loss: 1.2364 - val_accuracy: 0.5897\n",
            "Epoch 70/150\n",
            "18/18 [==============================] - 0s 4ms/step - loss: 1.2834 - accuracy: 0.5560 - val_loss: 1.2400 - val_accuracy: 0.5940\n",
            "Epoch 71/150\n",
            "18/18 [==============================] - 0s 4ms/step - loss: 1.2935 - accuracy: 0.5615 - val_loss: 1.2659 - val_accuracy: 0.5641\n",
            "Epoch 72/150\n",
            "18/18 [==============================] - 0s 4ms/step - loss: 1.4621 - accuracy: 0.5174 - val_loss: 1.3826 - val_accuracy: 0.5256\n",
            "Epoch 73/150\n",
            "18/18 [==============================] - 0s 5ms/step - loss: 1.3008 - accuracy: 0.5468 - val_loss: 1.2566 - val_accuracy: 0.5513\n",
            "Epoch 74/150\n",
            "18/18 [==============================] - 0s 5ms/step - loss: 1.2511 - accuracy: 0.5303 - val_loss: 1.2276 - val_accuracy: 0.5513\n",
            "Epoch 75/150\n",
            "18/18 [==============================] - 0s 5ms/step - loss: 1.2325 - accuracy: 0.5468 - val_loss: 1.2064 - val_accuracy: 0.5940\n",
            "Epoch 76/150\n",
            "18/18 [==============================] - 0s 4ms/step - loss: 1.2047 - accuracy: 0.5486 - val_loss: 1.2078 - val_accuracy: 0.5641\n",
            "Epoch 77/150\n",
            "18/18 [==============================] - 0s 4ms/step - loss: 1.1983 - accuracy: 0.5615 - val_loss: 1.1849 - val_accuracy: 0.5897\n",
            "Epoch 78/150\n",
            "18/18 [==============================] - 0s 4ms/step - loss: 1.2143 - accuracy: 0.5633 - val_loss: 1.1872 - val_accuracy: 0.5940\n",
            "Epoch 79/150\n",
            "18/18 [==============================] - 0s 4ms/step - loss: 1.1965 - accuracy: 0.5578 - val_loss: 1.1752 - val_accuracy: 0.5897\n",
            "Epoch 80/150\n",
            "18/18 [==============================] - 0s 5ms/step - loss: 1.1913 - accuracy: 0.5651 - val_loss: 1.1785 - val_accuracy: 0.5897\n",
            "Epoch 81/150\n",
            "18/18 [==============================] - 0s 4ms/step - loss: 1.1724 - accuracy: 0.5725 - val_loss: 1.1667 - val_accuracy: 0.5940\n",
            "Epoch 82/150\n",
            "18/18 [==============================] - 0s 5ms/step - loss: 1.1628 - accuracy: 0.5615 - val_loss: 1.1479 - val_accuracy: 0.5983\n",
            "Epoch 83/150\n",
            "18/18 [==============================] - 0s 4ms/step - loss: 1.1939 - accuracy: 0.5541 - val_loss: 1.1653 - val_accuracy: 0.5684\n",
            "Epoch 84/150\n",
            "18/18 [==============================] - 0s 5ms/step - loss: 1.1679 - accuracy: 0.5578 - val_loss: 1.1584 - val_accuracy: 0.5641\n",
            "Epoch 85/150\n",
            "18/18 [==============================] - 0s 4ms/step - loss: 1.1691 - accuracy: 0.5505 - val_loss: 1.1302 - val_accuracy: 0.5897\n",
            "Epoch 86/150\n",
            "18/18 [==============================] - 0s 5ms/step - loss: 1.1767 - accuracy: 0.5468 - val_loss: 1.1182 - val_accuracy: 0.6026\n",
            "Epoch 87/150\n",
            "18/18 [==============================] - 0s 4ms/step - loss: 1.1481 - accuracy: 0.5578 - val_loss: 1.1286 - val_accuracy: 0.5855\n",
            "Epoch 88/150\n",
            "18/18 [==============================] - 0s 5ms/step - loss: 1.1498 - accuracy: 0.5541 - val_loss: 1.1280 - val_accuracy: 0.5983\n",
            "Epoch 89/150\n",
            "18/18 [==============================] - 0s 4ms/step - loss: 1.1361 - accuracy: 0.5615 - val_loss: 1.1348 - val_accuracy: 0.5556\n",
            "Epoch 90/150\n",
            "18/18 [==============================] - 0s 4ms/step - loss: 1.1419 - accuracy: 0.5523 - val_loss: 1.1141 - val_accuracy: 0.5855\n",
            "Epoch 91/150\n",
            "18/18 [==============================] - 0s 5ms/step - loss: 1.1955 - accuracy: 0.5468 - val_loss: 1.1546 - val_accuracy: 0.5684\n",
            "Epoch 92/150\n",
            "18/18 [==============================] - 0s 5ms/step - loss: 1.1411 - accuracy: 0.5523 - val_loss: 1.1041 - val_accuracy: 0.5726\n",
            "Epoch 93/150\n",
            "18/18 [==============================] - 0s 4ms/step - loss: 1.1156 - accuracy: 0.5578 - val_loss: 1.1026 - val_accuracy: 0.5983\n",
            "Epoch 94/150\n",
            "18/18 [==============================] - 0s 5ms/step - loss: 1.1163 - accuracy: 0.5688 - val_loss: 1.0952 - val_accuracy: 0.6111\n",
            "Epoch 95/150\n",
            "18/18 [==============================] - 0s 4ms/step - loss: 1.1319 - accuracy: 0.5560 - val_loss: 1.1085 - val_accuracy: 0.5812\n",
            "Epoch 96/150\n",
            "18/18 [==============================] - 0s 4ms/step - loss: 1.1248 - accuracy: 0.5578 - val_loss: 1.0820 - val_accuracy: 0.5855\n",
            "Epoch 97/150\n",
            "18/18 [==============================] - 0s 4ms/step - loss: 1.1204 - accuracy: 0.5780 - val_loss: 1.0817 - val_accuracy: 0.6026\n",
            "Epoch 98/150\n",
            "18/18 [==============================] - 0s 5ms/step - loss: 1.1152 - accuracy: 0.5706 - val_loss: 1.1098 - val_accuracy: 0.5641\n",
            "Epoch 99/150\n",
            "18/18 [==============================] - 0s 5ms/step - loss: 1.1093 - accuracy: 0.5523 - val_loss: 1.0748 - val_accuracy: 0.6026\n",
            "Epoch 100/150\n",
            "18/18 [==============================] - 0s 4ms/step - loss: 1.0959 - accuracy: 0.5761 - val_loss: 1.0628 - val_accuracy: 0.5983\n",
            "Epoch 101/150\n",
            "18/18 [==============================] - 0s 5ms/step - loss: 1.0919 - accuracy: 0.5651 - val_loss: 1.0680 - val_accuracy: 0.6197\n",
            "Epoch 102/150\n",
            "18/18 [==============================] - 0s 5ms/step - loss: 1.0868 - accuracy: 0.5725 - val_loss: 1.0649 - val_accuracy: 0.6197\n",
            "Epoch 103/150\n",
            "18/18 [==============================] - 0s 4ms/step - loss: 1.0796 - accuracy: 0.5633 - val_loss: 1.0607 - val_accuracy: 0.5983\n",
            "Epoch 104/150\n",
            "18/18 [==============================] - 0s 4ms/step - loss: 1.0981 - accuracy: 0.5670 - val_loss: 1.0566 - val_accuracy: 0.6026\n",
            "Epoch 105/150\n",
            "18/18 [==============================] - 0s 5ms/step - loss: 1.0849 - accuracy: 0.5578 - val_loss: 1.0540 - val_accuracy: 0.5855\n",
            "Epoch 106/150\n",
            "18/18 [==============================] - 0s 4ms/step - loss: 1.0641 - accuracy: 0.5817 - val_loss: 1.0446 - val_accuracy: 0.6026\n",
            "Epoch 107/150\n",
            "18/18 [==============================] - 0s 4ms/step - loss: 1.0606 - accuracy: 0.5743 - val_loss: 1.0444 - val_accuracy: 0.6068\n",
            "Epoch 108/150\n",
            "18/18 [==============================] - 0s 4ms/step - loss: 1.0655 - accuracy: 0.5688 - val_loss: 1.0455 - val_accuracy: 0.6154\n",
            "Epoch 109/150\n",
            "18/18 [==============================] - 0s 5ms/step - loss: 1.0700 - accuracy: 0.5633 - val_loss: 1.0385 - val_accuracy: 0.6068\n",
            "Epoch 110/150\n",
            "18/18 [==============================] - 0s 4ms/step - loss: 1.0637 - accuracy: 0.5615 - val_loss: 1.0337 - val_accuracy: 0.5940\n",
            "Epoch 111/150\n",
            "18/18 [==============================] - 0s 5ms/step - loss: 1.0443 - accuracy: 0.5945 - val_loss: 1.0367 - val_accuracy: 0.5983\n",
            "Epoch 112/150\n",
            "18/18 [==============================] - 0s 4ms/step - loss: 1.0446 - accuracy: 0.5743 - val_loss: 1.0368 - val_accuracy: 0.6068\n",
            "Epoch 113/150\n",
            "18/18 [==============================] - 0s 5ms/step - loss: 1.0527 - accuracy: 0.5688 - val_loss: 1.0321 - val_accuracy: 0.6111\n",
            "Epoch 114/150\n",
            "18/18 [==============================] - 0s 5ms/step - loss: 1.0464 - accuracy: 0.5761 - val_loss: 1.0383 - val_accuracy: 0.5897\n",
            "Epoch 115/150\n",
            "18/18 [==============================] - 0s 4ms/step - loss: 1.0680 - accuracy: 0.5688 - val_loss: 1.0527 - val_accuracy: 0.5769\n",
            "Epoch 116/150\n",
            "18/18 [==============================] - 0s 5ms/step - loss: 1.0778 - accuracy: 0.5688 - val_loss: 1.0615 - val_accuracy: 0.5897\n",
            "Epoch 117/150\n",
            "18/18 [==============================] - 0s 4ms/step - loss: 1.0477 - accuracy: 0.5761 - val_loss: 1.0448 - val_accuracy: 0.5556\n",
            "Epoch 118/150\n",
            "18/18 [==============================] - 0s 5ms/step - loss: 1.0570 - accuracy: 0.5486 - val_loss: 1.0330 - val_accuracy: 0.5940\n",
            "Epoch 119/150\n",
            "18/18 [==============================] - 0s 4ms/step - loss: 1.0409 - accuracy: 0.5706 - val_loss: 1.0289 - val_accuracy: 0.5897\n",
            "Epoch 120/150\n",
            "18/18 [==============================] - 0s 4ms/step - loss: 1.0334 - accuracy: 0.5578 - val_loss: 1.0412 - val_accuracy: 0.6068\n",
            "Epoch 121/150\n",
            "18/18 [==============================] - 0s 5ms/step - loss: 1.0454 - accuracy: 0.5541 - val_loss: 1.0516 - val_accuracy: 0.5855\n",
            "Epoch 122/150\n",
            "18/18 [==============================] - 0s 4ms/step - loss: 1.0417 - accuracy: 0.5780 - val_loss: 1.0282 - val_accuracy: 0.5940\n",
            "Epoch 123/150\n",
            "18/18 [==============================] - 0s 5ms/step - loss: 1.0262 - accuracy: 0.5761 - val_loss: 1.0275 - val_accuracy: 0.6111\n",
            "Epoch 124/150\n",
            "18/18 [==============================] - 0s 4ms/step - loss: 1.0271 - accuracy: 0.5670 - val_loss: 1.0144 - val_accuracy: 0.5940\n",
            "Epoch 125/150\n",
            "18/18 [==============================] - 0s 5ms/step - loss: 1.0302 - accuracy: 0.5651 - val_loss: 1.0241 - val_accuracy: 0.6068\n",
            "Epoch 126/150\n",
            "18/18 [==============================] - 0s 5ms/step - loss: 1.0370 - accuracy: 0.5651 - val_loss: 1.0191 - val_accuracy: 0.5897\n",
            "Epoch 127/150\n",
            "18/18 [==============================] - 0s 4ms/step - loss: 1.0302 - accuracy: 0.5853 - val_loss: 1.0156 - val_accuracy: 0.6197\n",
            "Epoch 128/150\n",
            "18/18 [==============================] - 0s 4ms/step - loss: 1.0157 - accuracy: 0.5927 - val_loss: 1.0192 - val_accuracy: 0.6111\n",
            "Epoch 129/150\n",
            "18/18 [==============================] - 0s 5ms/step - loss: 1.0157 - accuracy: 0.5578 - val_loss: 1.0146 - val_accuracy: 0.6111\n",
            "Epoch 130/150\n",
            "18/18 [==============================] - 0s 5ms/step - loss: 1.0127 - accuracy: 0.5817 - val_loss: 1.0052 - val_accuracy: 0.6068\n",
            "Epoch 131/150\n",
            "18/18 [==============================] - 0s 5ms/step - loss: 1.0196 - accuracy: 0.5761 - val_loss: 1.0053 - val_accuracy: 0.6068\n",
            "Epoch 132/150\n",
            "18/18 [==============================] - 0s 5ms/step - loss: 1.0189 - accuracy: 0.5853 - val_loss: 1.0143 - val_accuracy: 0.6068\n",
            "Epoch 133/150\n",
            "18/18 [==============================] - 0s 5ms/step - loss: 1.0386 - accuracy: 0.5872 - val_loss: 1.0229 - val_accuracy: 0.6068\n",
            "Epoch 134/150\n",
            "18/18 [==============================] - 0s 5ms/step - loss: 1.0301 - accuracy: 0.5541 - val_loss: 1.0148 - val_accuracy: 0.5983\n",
            "Epoch 135/150\n",
            "18/18 [==============================] - 0s 4ms/step - loss: 1.0275 - accuracy: 0.5633 - val_loss: 1.0230 - val_accuracy: 0.5983\n",
            "Epoch 136/150\n",
            "18/18 [==============================] - 0s 4ms/step - loss: 1.0207 - accuracy: 0.5725 - val_loss: 1.0193 - val_accuracy: 0.6068\n",
            "Epoch 137/150\n",
            "18/18 [==============================] - 0s 5ms/step - loss: 1.0074 - accuracy: 0.5927 - val_loss: 1.0015 - val_accuracy: 0.6111\n",
            "Epoch 138/150\n",
            "18/18 [==============================] - 0s 4ms/step - loss: 1.0246 - accuracy: 0.5817 - val_loss: 1.0002 - val_accuracy: 0.6282\n",
            "Epoch 139/150\n",
            "18/18 [==============================] - 0s 4ms/step - loss: 1.0033 - accuracy: 0.5780 - val_loss: 1.0005 - val_accuracy: 0.6239\n",
            "Epoch 140/150\n",
            "18/18 [==============================] - 0s 5ms/step - loss: 1.0091 - accuracy: 0.5743 - val_loss: 1.0065 - val_accuracy: 0.6111\n",
            "Epoch 141/150\n",
            "18/18 [==============================] - 0s 5ms/step - loss: 1.0184 - accuracy: 0.5670 - val_loss: 1.0120 - val_accuracy: 0.5983\n",
            "Epoch 142/150\n",
            "18/18 [==============================] - 0s 4ms/step - loss: 1.0089 - accuracy: 0.5835 - val_loss: 0.9985 - val_accuracy: 0.6197\n",
            "Epoch 143/150\n",
            "18/18 [==============================] - 0s 5ms/step - loss: 1.0054 - accuracy: 0.5890 - val_loss: 0.9983 - val_accuracy: 0.6197\n",
            "Epoch 144/150\n",
            "18/18 [==============================] - 0s 5ms/step - loss: 0.9991 - accuracy: 0.5651 - val_loss: 1.0148 - val_accuracy: 0.5897\n",
            "Epoch 145/150\n",
            "18/18 [==============================] - 0s 5ms/step - loss: 1.0064 - accuracy: 0.5817 - val_loss: 1.0261 - val_accuracy: 0.5940\n",
            "Epoch 146/150\n",
            "18/18 [==============================] - 0s 5ms/step - loss: 0.9983 - accuracy: 0.5743 - val_loss: 1.0037 - val_accuracy: 0.5983\n",
            "Epoch 147/150\n",
            "18/18 [==============================] - 0s 6ms/step - loss: 1.0051 - accuracy: 0.5798 - val_loss: 1.0038 - val_accuracy: 0.6239\n",
            "Epoch 148/150\n",
            "18/18 [==============================] - 0s 6ms/step - loss: 0.9994 - accuracy: 0.5780 - val_loss: 0.9954 - val_accuracy: 0.5983\n",
            "Epoch 149/150\n",
            "18/18 [==============================] - 0s 5ms/step - loss: 1.0032 - accuracy: 0.6018 - val_loss: 0.9918 - val_accuracy: 0.6111\n",
            "Epoch 150/150\n",
            "18/18 [==============================] - 0s 6ms/step - loss: 1.0032 - accuracy: 0.5798 - val_loss: 0.9974 - val_accuracy: 0.6026\n"
          ]
        }
      ]
    },
    {
      "cell_type": "code",
      "source": [
        "from sklearn.metrics import confusion_matrix\n",
        "y_pred = model.predict(X_test)\n",
        "y_pred_class = np.argmax(y_pred, axis=1)\n",
        "y_test_class = np.argmax(y_test, axis=1)\n",
        "cf=confusion_matrix(y_test_class, y_pred_class)\n",
        "\n",
        "from sklearn.metrics import classification_report\n",
        "print(classification_report(y_test_class, y_pred_class))\n",
        "\n",
        "import seaborn as sns\n",
        "\n",
        "ax = sns.heatmap(cf, annot=True, cmap='Blues')\n",
        "\n",
        "ax.set_title('Seaborn Confusion Matrix with labels\\n\\n');\n",
        "ax.set_xlabel('\\nPredicted Values')\n",
        "ax.set_ylabel('Actual Values ');\n",
        "\n",
        "## Ticket labels - List must be in alphabetical order\n",
        "ax.xaxis.set_ticklabels(['O','M','E','HE'])\n",
        "ax.yaxis.set_ticklabels(['O','M','E','HE'])\n",
        "\n",
        "## Display the visualization of the Confusion Matrix.\n",
        "plt.show()\n"
      ],
      "metadata": {
        "colab": {
          "base_uri": "https://localhost:8080/",
          "height": 528
        },
        "id": "qpSdQP-iP_8L",
        "outputId": "e6b10dd7-959f-448f-f601-6f3da5a51ab8"
      },
      "execution_count": 10,
      "outputs": [
        {
          "output_type": "stream",
          "name": "stdout",
          "text": [
            "              precision    recall  f1-score   support\n",
            "\n",
            "           0       0.57      0.92      0.70        72\n",
            "           1       0.44      0.16      0.23        51\n",
            "           2       0.62      0.49      0.55        67\n",
            "           3       0.72      0.77      0.75        44\n",
            "\n",
            "    accuracy                           0.60       234\n",
            "   macro avg       0.59      0.58      0.56       234\n",
            "weighted avg       0.59      0.60      0.56       234\n",
            "\n"
          ]
        },
        {
          "output_type": "display_data",
          "data": {
            "text/plain": [
              "<Figure size 432x288 with 2 Axes>"
            ],
            "image/png": "[encoded data removed]"
          },
          "metadata": {
            "needs_background": "light"
          }
        }
      ]
    },
    {
      "cell_type": "code",
      "source": [
        "plt.figure(figsize=(8,4))\n",
        "plt.plot(history.history['loss'], label='Train Loss')\n",
        "plt.plot(history.history['val_loss'], label='Test Loss')\n",
        "plt.title('model loss')\n",
        "plt.ylabel('loss')\n",
        "plt.xlabel('epochs')\n",
        "plt.legend(loc='upper right')\n",
        "plt.show()"
      ],
      "metadata": {
        "colab": {
          "base_uri": "https://localhost:8080/",
          "height": 295
        },
        "id": "U4TIrFEHQOGt",
        "outputId": "62c0c1a7-8615-4c85-f033-3a254e08e71d"
      },
      "execution_count": 11,
      "outputs": [
        {
          "output_type": "display_data",
          "data": {
            "text/plain": [
              "<Figure size 576x288 with 1 Axes>"
            ],
            "image/png": "[encoded data removed]"
          },
          "metadata": {
            "needs_background": "light"
          }
        }
      ]
    }
  ]
}